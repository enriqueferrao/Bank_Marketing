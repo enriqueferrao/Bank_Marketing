{
 "cells": [
  {
   "cell_type": "code",
   "execution_count": 174,
   "metadata": {
    "ExecuteTime": {
     "end_time": "2019-12-23T21:34:21.478681Z",
     "start_time": "2019-12-23T21:34:21.475843Z"
    }
   },
   "outputs": [],
   "source": [
    "## 1. PROBLEM STATEMENT"
   ]
  },
  {
   "cell_type": "code",
   "execution_count": 175,
   "metadata": {
    "ExecuteTime": {
     "end_time": "2019-12-23T21:34:21.732126Z",
     "start_time": "2019-12-23T21:34:21.730123Z"
    }
   },
   "outputs": [],
   "source": [
    "# A Portuguese banking institution has collected data about their clients and they now want to use this data to design their marketing campaigns for maximum profit. \n",
    "# The product being sold is a term deposit (Fixed Deposit)."
   ]
  },
  {
   "cell_type": "code",
   "execution_count": null,
   "metadata": {},
   "outputs": [],
   "source": []
  },
  {
   "cell_type": "code",
   "execution_count": 176,
   "metadata": {
    "ExecuteTime": {
     "end_time": "2019-12-23T21:34:22.096926Z",
     "start_time": "2019-12-23T21:34:22.094373Z"
    }
   },
   "outputs": [],
   "source": [
    "## 2. DATA PREPROCESSING"
   ]
  },
  {
   "cell_type": "code",
   "execution_count": 295,
   "metadata": {
    "ExecuteTime": {
     "end_time": "2019-12-23T21:48:21.812877Z",
     "start_time": "2019-12-23T21:48:21.807068Z"
    }
   },
   "outputs": [],
   "source": [
    "import pandas as pd\n",
    "import seaborn as sns\n",
    "import matplotlib.pyplot as plt\n",
    "import numpy as np\n",
    "from sklearn.preprocessing import StandardScaler\n",
    "from sklearn.model_selection import train_test_split\n",
    "from sklearn.svm import SVC\n",
    "from sklearn.metrics import classification_report, accuracy_score\n",
    "plt.style.use('bmh')"
   ]
  },
  {
   "cell_type": "code",
   "execution_count": 296,
   "metadata": {
    "ExecuteTime": {
     "end_time": "2019-12-23T21:48:22.049059Z",
     "start_time": "2019-12-23T21:48:22.042232Z"
    }
   },
   "outputs": [
    {
     "data": {
      "text/plain": [
       "['bmh',\n",
       " 'seaborn',\n",
       " 'ggplot',\n",
       " 'seaborn-notebook',\n",
       " 'seaborn-muted',\n",
       " 'seaborn-deep',\n",
       " 'seaborn-whitegrid',\n",
       " 'fivethirtyeight',\n",
       " 'seaborn-bright',\n",
       " 'tableau-colorblind10',\n",
       " 'seaborn-paper',\n",
       " 'seaborn-poster',\n",
       " 'seaborn-darkgrid',\n",
       " 'seaborn-ticks',\n",
       " 'grayscale',\n",
       " 'fast',\n",
       " 'Solarize_Light2',\n",
       " 'classic',\n",
       " 'seaborn-colorblind',\n",
       " 'seaborn-talk',\n",
       " '_classic_test',\n",
       " 'seaborn-pastel',\n",
       " 'seaborn-white',\n",
       " 'seaborn-dark-palette',\n",
       " 'seaborn-dark',\n",
       " 'dark_background']"
      ]
     },
     "execution_count": 296,
     "metadata": {},
     "output_type": "execute_result"
    }
   ],
   "source": [
    "plt.style.available"
   ]
  },
  {
   "cell_type": "code",
   "execution_count": 297,
   "metadata": {
    "ExecuteTime": {
     "end_time": "2019-12-23T21:48:22.300835Z",
     "start_time": "2019-12-23T21:48:22.216101Z"
    }
   },
   "outputs": [],
   "source": [
    "df = pd.read_csv('train.csv', sep=',')"
   ]
  },
  {
   "cell_type": "code",
   "execution_count": 298,
   "metadata": {
    "ExecuteTime": {
     "end_time": "2019-12-23T21:48:22.397726Z",
     "start_time": "2019-12-23T21:48:22.374343Z"
    }
   },
   "outputs": [
    {
     "data": {
      "text/html": [
       "<div>\n",
       "<style scoped>\n",
       "    .dataframe tbody tr th:only-of-type {\n",
       "        vertical-align: middle;\n",
       "    }\n",
       "\n",
       "    .dataframe tbody tr th {\n",
       "        vertical-align: top;\n",
       "    }\n",
       "\n",
       "    .dataframe thead th {\n",
       "        text-align: right;\n",
       "    }\n",
       "</style>\n",
       "<table border=\"1\" class=\"dataframe\">\n",
       "  <thead>\n",
       "    <tr style=\"text-align: right;\">\n",
       "      <th></th>\n",
       "      <th>id</th>\n",
       "      <th>age</th>\n",
       "      <th>job</th>\n",
       "      <th>marital</th>\n",
       "      <th>education</th>\n",
       "      <th>default</th>\n",
       "      <th>housing</th>\n",
       "      <th>loan</th>\n",
       "      <th>contact</th>\n",
       "      <th>month</th>\n",
       "      <th>...</th>\n",
       "      <th>campaign</th>\n",
       "      <th>pdays</th>\n",
       "      <th>previous</th>\n",
       "      <th>poutcome</th>\n",
       "      <th>emp.var.rate</th>\n",
       "      <th>cons.price.idx</th>\n",
       "      <th>cons.conf.idx</th>\n",
       "      <th>euribor3m</th>\n",
       "      <th>nr.employed</th>\n",
       "      <th>y</th>\n",
       "    </tr>\n",
       "  </thead>\n",
       "  <tbody>\n",
       "    <tr>\n",
       "      <th>0</th>\n",
       "      <td>0</td>\n",
       "      <td>56</td>\n",
       "      <td>housemaid</td>\n",
       "      <td>married</td>\n",
       "      <td>basic.4y</td>\n",
       "      <td>no</td>\n",
       "      <td>no</td>\n",
       "      <td>no</td>\n",
       "      <td>telephone</td>\n",
       "      <td>may</td>\n",
       "      <td>...</td>\n",
       "      <td>1</td>\n",
       "      <td>999</td>\n",
       "      <td>0</td>\n",
       "      <td>nonexistent</td>\n",
       "      <td>1.1</td>\n",
       "      <td>93.994</td>\n",
       "      <td>-36.4</td>\n",
       "      <td>4.857</td>\n",
       "      <td>5191.0</td>\n",
       "      <td>no</td>\n",
       "    </tr>\n",
       "    <tr>\n",
       "      <th>1</th>\n",
       "      <td>1</td>\n",
       "      <td>57</td>\n",
       "      <td>services</td>\n",
       "      <td>married</td>\n",
       "      <td>high.school</td>\n",
       "      <td>unknown</td>\n",
       "      <td>no</td>\n",
       "      <td>no</td>\n",
       "      <td>telephone</td>\n",
       "      <td>may</td>\n",
       "      <td>...</td>\n",
       "      <td>1</td>\n",
       "      <td>999</td>\n",
       "      <td>0</td>\n",
       "      <td>nonexistent</td>\n",
       "      <td>1.1</td>\n",
       "      <td>93.994</td>\n",
       "      <td>-36.4</td>\n",
       "      <td>4.857</td>\n",
       "      <td>5191.0</td>\n",
       "      <td>no</td>\n",
       "    </tr>\n",
       "    <tr>\n",
       "      <th>2</th>\n",
       "      <td>2</td>\n",
       "      <td>37</td>\n",
       "      <td>services</td>\n",
       "      <td>married</td>\n",
       "      <td>high.school</td>\n",
       "      <td>no</td>\n",
       "      <td>yes</td>\n",
       "      <td>no</td>\n",
       "      <td>telephone</td>\n",
       "      <td>may</td>\n",
       "      <td>...</td>\n",
       "      <td>1</td>\n",
       "      <td>999</td>\n",
       "      <td>0</td>\n",
       "      <td>nonexistent</td>\n",
       "      <td>1.1</td>\n",
       "      <td>93.994</td>\n",
       "      <td>-36.4</td>\n",
       "      <td>4.857</td>\n",
       "      <td>5191.0</td>\n",
       "      <td>no</td>\n",
       "    </tr>\n",
       "    <tr>\n",
       "      <th>3</th>\n",
       "      <td>4</td>\n",
       "      <td>56</td>\n",
       "      <td>services</td>\n",
       "      <td>married</td>\n",
       "      <td>high.school</td>\n",
       "      <td>no</td>\n",
       "      <td>no</td>\n",
       "      <td>yes</td>\n",
       "      <td>telephone</td>\n",
       "      <td>may</td>\n",
       "      <td>...</td>\n",
       "      <td>1</td>\n",
       "      <td>999</td>\n",
       "      <td>0</td>\n",
       "      <td>nonexistent</td>\n",
       "      <td>1.1</td>\n",
       "      <td>93.994</td>\n",
       "      <td>-36.4</td>\n",
       "      <td>4.857</td>\n",
       "      <td>5191.0</td>\n",
       "      <td>no</td>\n",
       "    </tr>\n",
       "    <tr>\n",
       "      <th>4</th>\n",
       "      <td>5</td>\n",
       "      <td>45</td>\n",
       "      <td>services</td>\n",
       "      <td>married</td>\n",
       "      <td>basic.9y</td>\n",
       "      <td>unknown</td>\n",
       "      <td>no</td>\n",
       "      <td>no</td>\n",
       "      <td>telephone</td>\n",
       "      <td>may</td>\n",
       "      <td>...</td>\n",
       "      <td>1</td>\n",
       "      <td>999</td>\n",
       "      <td>0</td>\n",
       "      <td>nonexistent</td>\n",
       "      <td>1.1</td>\n",
       "      <td>93.994</td>\n",
       "      <td>-36.4</td>\n",
       "      <td>4.857</td>\n",
       "      <td>5191.0</td>\n",
       "      <td>no</td>\n",
       "    </tr>\n",
       "  </tbody>\n",
       "</table>\n",
       "<p>5 rows × 22 columns</p>\n",
       "</div>"
      ],
      "text/plain": [
       "   id  age        job  marital    education  default housing loan    contact  \\\n",
       "0   0   56  housemaid  married     basic.4y       no      no   no  telephone   \n",
       "1   1   57   services  married  high.school  unknown      no   no  telephone   \n",
       "2   2   37   services  married  high.school       no     yes   no  telephone   \n",
       "3   4   56   services  married  high.school       no      no  yes  telephone   \n",
       "4   5   45   services  married     basic.9y  unknown      no   no  telephone   \n",
       "\n",
       "  month  ... campaign  pdays  previous     poutcome  emp.var.rate  \\\n",
       "0   may  ...        1    999         0  nonexistent           1.1   \n",
       "1   may  ...        1    999         0  nonexistent           1.1   \n",
       "2   may  ...        1    999         0  nonexistent           1.1   \n",
       "3   may  ...        1    999         0  nonexistent           1.1   \n",
       "4   may  ...        1    999         0  nonexistent           1.1   \n",
       "\n",
       "  cons.price.idx  cons.conf.idx  euribor3m  nr.employed   y  \n",
       "0         93.994          -36.4      4.857       5191.0  no  \n",
       "1         93.994          -36.4      4.857       5191.0  no  \n",
       "2         93.994          -36.4      4.857       5191.0  no  \n",
       "3         93.994          -36.4      4.857       5191.0  no  \n",
       "4         93.994          -36.4      4.857       5191.0  no  \n",
       "\n",
       "[5 rows x 22 columns]"
      ]
     },
     "execution_count": 298,
     "metadata": {},
     "output_type": "execute_result"
    }
   ],
   "source": [
    "df.head()"
   ]
  },
  {
   "cell_type": "code",
   "execution_count": 299,
   "metadata": {
    "ExecuteTime": {
     "end_time": "2019-12-23T21:48:22.551012Z",
     "start_time": "2019-12-23T21:48:22.528436Z"
    }
   },
   "outputs": [
    {
     "name": "stdout",
     "output_type": "stream",
     "text": [
      "<class 'pandas.core.frame.DataFrame'>\n",
      "RangeIndex: 32978 entries, 0 to 32977\n",
      "Data columns (total 22 columns):\n",
      "id                32978 non-null int64\n",
      "age               32978 non-null int64\n",
      "job               32978 non-null object\n",
      "marital           32978 non-null object\n",
      "education         32978 non-null object\n",
      "default           32978 non-null object\n",
      "housing           32978 non-null object\n",
      "loan              32978 non-null object\n",
      "contact           32978 non-null object\n",
      "month             32978 non-null object\n",
      "day_of_week       32978 non-null object\n",
      "duration          32978 non-null int64\n",
      "campaign          32978 non-null int64\n",
      "pdays             32978 non-null int64\n",
      "previous          32978 non-null int64\n",
      "poutcome          32978 non-null object\n",
      "emp.var.rate      32978 non-null float64\n",
      "cons.price.idx    32978 non-null float64\n",
      "cons.conf.idx     32978 non-null float64\n",
      "euribor3m         32978 non-null float64\n",
      "nr.employed       32978 non-null float64\n",
      "y                 32978 non-null object\n",
      "dtypes: float64(5), int64(6), object(11)\n",
      "memory usage: 5.5+ MB\n"
     ]
    }
   ],
   "source": [
    "df.info()"
   ]
  },
  {
   "cell_type": "code",
   "execution_count": 300,
   "metadata": {
    "ExecuteTime": {
     "end_time": "2019-12-23T21:48:22.723750Z",
     "start_time": "2019-12-23T21:48:22.717244Z"
    }
   },
   "outputs": [],
   "source": [
    "df.drop('duration', axis=1, inplace=True)\n",
    "# Drop the duration column as all the data in it is non-existent."
   ]
  },
  {
   "cell_type": "code",
   "execution_count": 301,
   "metadata": {
    "ExecuteTime": {
     "end_time": "2019-12-23T21:48:22.925587Z",
     "start_time": "2019-12-23T21:48:22.912299Z"
    }
   },
   "outputs": [],
   "source": [
    "df['y'].replace(['no'],0,inplace=True)\n",
    "df['y'].replace(['yes'],1,inplace=True)"
   ]
  },
  {
   "cell_type": "code",
   "execution_count": null,
   "metadata": {},
   "outputs": [],
   "source": []
  },
  {
   "cell_type": "code",
   "execution_count": 302,
   "metadata": {
    "ExecuteTime": {
     "end_time": "2019-12-23T21:48:23.255400Z",
     "start_time": "2019-12-23T21:48:23.252617Z"
    }
   },
   "outputs": [],
   "source": [
    "## 3. EXPLORATORY DATA ANALYSIS"
   ]
  },
  {
   "cell_type": "code",
   "execution_count": 303,
   "metadata": {
    "ExecuteTime": {
     "end_time": "2019-12-23T21:48:23.568897Z",
     "start_time": "2019-12-23T21:48:23.428883Z"
    }
   },
   "outputs": [
    {
     "data": {
      "text/plain": [
       "Text(0, 0.5, 'No. of customers')"
      ]
     },
     "execution_count": 303,
     "metadata": {},
     "output_type": "execute_result"
    },
    {
     "data": {
      "image/png": "[encoded data removed]",
      "text/plain": [
       "<Figure size 960x400 with 1 Axes>"
      ]
     },
     "metadata": {},
     "output_type": "display_data"
    }
   ],
   "source": [
    "plt.figure(figsize=(12,5))\n",
    "ax = sns.countplot(x='y', data=df)\n",
    "ax.set_xlabel('Purchased', fontsize=15)\n",
    "ax.set_ylabel('No. of customers', fontsize=15)"
   ]
  },
  {
   "cell_type": "code",
   "execution_count": 304,
   "metadata": {
    "ExecuteTime": {
     "end_time": "2019-12-23T21:48:23.602552Z",
     "start_time": "2019-12-23T21:48:23.599384Z"
    }
   },
   "outputs": [
    {
     "name": "stdout",
     "output_type": "stream",
     "text": [
      "Percentage of Customers who purchased the Deposit=11.331796955546123%\n"
     ]
    }
   ],
   "source": [
    "perc = df['y'].sum()/32978\n",
    "perc = perc*100\n",
    "print('Percentage of Customers who purchased the Deposit=' + str(perc) + \"%\")"
   ]
  },
  {
   "cell_type": "code",
   "execution_count": 305,
   "metadata": {
    "ExecuteTime": {
     "end_time": "2019-12-23T21:48:23.774540Z",
     "start_time": "2019-12-23T21:48:23.771949Z"
    }
   },
   "outputs": [],
   "source": [
    "# As we can see that most targeted customers are not buying the term deposit indicating that the wrong customers are being targeted in the campaign.\n",
    "# This will cause a lot of loss to the company in terms of money spent in marketing.\n",
    "# Only 11% of customers were targeted accurately."
   ]
  },
  {
   "cell_type": "code",
   "execution_count": 306,
   "metadata": {
    "ExecuteTime": {
     "end_time": "2019-12-23T21:48:24.196382Z",
     "start_time": "2019-12-23T21:48:23.947763Z"
    },
    "scrolled": true
   },
   "outputs": [
    {
     "data": {
      "text/plain": [
       "Text(0, 0.5, 'No. of customers')"
      ]
     },
     "execution_count": 306,
     "metadata": {},
     "output_type": "execute_result"
    },
    {
     "data": {
      "image/png": "[encoded data removed]",
      "text/plain": [
       "<Figure size 960x400 with 1 Axes>"
      ]
     },
     "metadata": {},
     "output_type": "display_data"
    }
   ],
   "source": [
    "plt.figure(figsize=(12,5))\n",
    "ax = sns.countplot(y='job', data=df, hue='y')\n",
    "ax.set_xlabel('Type of job', fontsize=15)\n",
    "ax.set_ylabel('No. of customers', fontsize=15)"
   ]
  },
  {
   "cell_type": "code",
   "execution_count": 307,
   "metadata": {
    "ExecuteTime": {
     "end_time": "2019-12-23T21:48:24.205880Z",
     "start_time": "2019-12-23T21:48:24.204041Z"
    }
   },
   "outputs": [],
   "source": [
    "# Most customers who purchased the term deposit work as Admins."
   ]
  },
  {
   "cell_type": "code",
   "execution_count": 308,
   "metadata": {
    "ExecuteTime": {
     "end_time": "2019-12-23T21:48:24.651567Z",
     "start_time": "2019-12-23T21:48:24.452441Z"
    }
   },
   "outputs": [
    {
     "data": {
      "text/plain": [
       "Text(0, 0.5, 'No. of customers')"
      ]
     },
     "execution_count": 308,
     "metadata": {},
     "output_type": "execute_result"
    },
    {
     "data": {
      "image/png": "[encoded data removed]",
      "text/plain": [
       "<Figure size 960x400 with 1 Axes>"
      ]
     },
     "metadata": {},
     "output_type": "display_data"
    }
   ],
   "source": [
    "plt.figure(figsize=(12,5))\n",
    "ax = sns.countplot(x='marital', data=df, hue='y')\n",
    "ax.set_xlabel('Marital Status', fontsize=15)\n",
    "ax.set_ylabel('No. of customers', fontsize=15)"
   ]
  },
  {
   "cell_type": "code",
   "execution_count": 309,
   "metadata": {
    "ExecuteTime": {
     "end_time": "2019-12-23T21:48:24.656811Z",
     "start_time": "2019-12-23T21:48:24.654986Z"
    }
   },
   "outputs": [],
   "source": [
    "# Most customers who purchased the term deposit married."
   ]
  },
  {
   "cell_type": "code",
   "execution_count": 310,
   "metadata": {
    "ExecuteTime": {
     "end_time": "2019-12-23T21:48:25.109600Z",
     "start_time": "2019-12-23T21:48:24.928468Z"
    }
   },
   "outputs": [
    {
     "data": {
      "text/plain": [
       "Text(0, 0.5, 'No. of customers')"
      ]
     },
     "execution_count": 310,
     "metadata": {},
     "output_type": "execute_result"
    },
    {
     "data": {
      "image/png": "[encoded data removed]",
      "text/plain": [
       "<Figure size 960x400 with 1 Axes>"
      ]
     },
     "metadata": {},
     "output_type": "display_data"
    }
   ],
   "source": [
    "plt.figure(figsize=(12,5))\n",
    "ax = sns.countplot(x='contact',data=df, hue='y')\n",
    "ax.set_xlabel('Contact type', fontsize=15)\n",
    "ax.set_ylabel('No. of customers', fontsize=15)"
   ]
  },
  {
   "cell_type": "code",
   "execution_count": 311,
   "metadata": {
    "ExecuteTime": {
     "end_time": "2019-12-23T21:48:25.129526Z",
     "start_time": "2019-12-23T21:48:25.127421Z"
    }
   },
   "outputs": [],
   "source": [
    "# Most customers who purchased the term deposit have been contacted on a cellular connection."
   ]
  },
  {
   "cell_type": "code",
   "execution_count": 312,
   "metadata": {
    "ExecuteTime": {
     "end_time": "2019-12-23T21:48:25.870654Z",
     "start_time": "2019-12-23T21:48:25.652170Z"
    }
   },
   "outputs": [
    {
     "data": {
      "text/plain": [
       "Text(0, 0.5, 'No. of customers')"
      ]
     },
     "execution_count": 312,
     "metadata": {},
     "output_type": "execute_result"
    },
    {
     "data": {
      "image/png": "[encoded data removed]",
      "text/plain": [
       "<Figure size 960x400 with 1 Axes>"
      ]
     },
     "metadata": {},
     "output_type": "display_data"
    }
   ],
   "source": [
    "plt.figure(figsize=(12,5))\n",
    "ax = sns.countplot(y='education', data=df, hue='y')\n",
    "ax.set_xlabel('Type of Education', fontsize=15)\n",
    "ax.set_ylabel('No. of customers', fontsize=15)"
   ]
  },
  {
   "cell_type": "code",
   "execution_count": 313,
   "metadata": {
    "ExecuteTime": {
     "end_time": "2019-12-23T21:48:26.042810Z",
     "start_time": "2019-12-23T21:48:26.040246Z"
    }
   },
   "outputs": [],
   "source": [
    "# Majority customers who purchased the term deposit have university degrees."
   ]
  },
  {
   "cell_type": "code",
   "execution_count": 314,
   "metadata": {
    "ExecuteTime": {
     "end_time": "2019-12-23T21:48:26.731717Z",
     "start_time": "2019-12-23T21:48:26.360546Z"
    },
    "scrolled": true
   },
   "outputs": [
    {
     "data": {
      "text/plain": [
       "Text(0, 0.5, 'No. of customers')"
      ]
     },
     "execution_count": 314,
     "metadata": {},
     "output_type": "execute_result"
    },
    {
     "data": {
      "image/png": "[encoded data removed]",
      "text/plain": [
       "<Figure size 960x400 with 1 Axes>"
      ]
     },
     "metadata": {},
     "output_type": "display_data"
    }
   ],
   "source": [
    "plt.figure(figsize=(12,5))\n",
    "ax = sns.distplot(a=df['age'])\n",
    "ax.set_xlabel('age', fontsize=15)\n",
    "ax.set_ylabel('No. of customers', fontsize=15)"
   ]
  },
  {
   "cell_type": "code",
   "execution_count": 315,
   "metadata": {
    "ExecuteTime": {
     "end_time": "2019-12-23T21:48:26.756156Z",
     "start_time": "2019-12-23T21:48:26.733675Z"
    }
   },
   "outputs": [
    {
     "data": {
      "text/html": [
       "<div>\n",
       "<style scoped>\n",
       "    .dataframe tbody tr th:only-of-type {\n",
       "        vertical-align: middle;\n",
       "    }\n",
       "\n",
       "    .dataframe tbody tr th {\n",
       "        vertical-align: top;\n",
       "    }\n",
       "\n",
       "    .dataframe thead th {\n",
       "        text-align: right;\n",
       "    }\n",
       "</style>\n",
       "<table border=\"1\" class=\"dataframe\">\n",
       "  <thead>\n",
       "    <tr style=\"text-align: right;\">\n",
       "      <th></th>\n",
       "      <th>id</th>\n",
       "      <th>age</th>\n",
       "      <th>campaign</th>\n",
       "      <th>pdays</th>\n",
       "      <th>previous</th>\n",
       "      <th>emp.var.rate</th>\n",
       "      <th>cons.price.idx</th>\n",
       "      <th>cons.conf.idx</th>\n",
       "      <th>euribor3m</th>\n",
       "      <th>nr.employed</th>\n",
       "    </tr>\n",
       "    <tr>\n",
       "      <th>y</th>\n",
       "      <th></th>\n",
       "      <th></th>\n",
       "      <th></th>\n",
       "      <th></th>\n",
       "      <th></th>\n",
       "      <th></th>\n",
       "      <th></th>\n",
       "      <th></th>\n",
       "      <th></th>\n",
       "      <th></th>\n",
       "    </tr>\n",
       "  </thead>\n",
       "  <tbody>\n",
       "    <tr>\n",
       "      <th>0</th>\n",
       "      <td>19162</td>\n",
       "      <td>38</td>\n",
       "      <td>2</td>\n",
       "      <td>999</td>\n",
       "      <td>0</td>\n",
       "      <td>1.1</td>\n",
       "      <td>93.918</td>\n",
       "      <td>-41.8</td>\n",
       "      <td>4.857</td>\n",
       "      <td>5195.8</td>\n",
       "    </tr>\n",
       "    <tr>\n",
       "      <th>1</th>\n",
       "      <td>35607</td>\n",
       "      <td>37</td>\n",
       "      <td>2</td>\n",
       "      <td>999</td>\n",
       "      <td>0</td>\n",
       "      <td>-1.8</td>\n",
       "      <td>93.200</td>\n",
       "      <td>-40.4</td>\n",
       "      <td>1.266</td>\n",
       "      <td>5099.1</td>\n",
       "    </tr>\n",
       "  </tbody>\n",
       "</table>\n",
       "</div>"
      ],
      "text/plain": [
       "      id  age  campaign  pdays  previous  emp.var.rate  cons.price.idx  \\\n",
       "y                                                                        \n",
       "0  19162   38         2    999         0           1.1          93.918   \n",
       "1  35607   37         2    999         0          -1.8          93.200   \n",
       "\n",
       "   cons.conf.idx  euribor3m  nr.employed  \n",
       "y                                         \n",
       "0          -41.8      4.857       5195.8  \n",
       "1          -40.4      1.266       5099.1  "
      ]
     },
     "execution_count": 315,
     "metadata": {},
     "output_type": "execute_result"
    }
   ],
   "source": [
    "df.groupby('y').median()"
   ]
  },
  {
   "cell_type": "code",
   "execution_count": 316,
   "metadata": {
    "ExecuteTime": {
     "end_time": "2019-12-23T21:48:27.434189Z",
     "start_time": "2019-12-23T21:48:27.432277Z"
    }
   },
   "outputs": [],
   "source": [
    "# Most of the customers are around the age of 37-38."
   ]
  },
  {
   "cell_type": "code",
   "execution_count": 317,
   "metadata": {
    "ExecuteTime": {
     "end_time": "2019-12-23T21:48:28.894348Z",
     "start_time": "2019-12-23T21:48:27.992091Z"
    },
    "scrolled": false
   },
   "outputs": [
    {
     "data": {
      "text/plain": [
       "Text(0, 0.5, 'Months')"
      ]
     },
     "execution_count": 317,
     "metadata": {},
     "output_type": "execute_result"
    },
    {
     "data": {
      "image/png": "[encoded data removed]",
      "text/plain": [
       "<Figure size 960x400 with 1 Axes>"
      ]
     },
     "metadata": {},
     "output_type": "display_data"
    }
   ],
   "source": [
    "plt.figure(figsize=(12,5))\n",
    "ax = sns.barplot(x='campaign',y='month', data=df)\n",
    "ax.set_xlabel('Campaign', fontsize=15)\n",
    "ax.set_ylabel('Months', fontsize=15)"
   ]
  },
  {
   "cell_type": "code",
   "execution_count": 318,
   "metadata": {
    "ExecuteTime": {
     "end_time": "2019-12-23T21:48:28.898483Z",
     "start_time": "2019-12-23T21:48:28.895971Z"
    }
   },
   "outputs": [],
   "source": [
    "# The campaign went on for most part of the year."
   ]
  },
  {
   "cell_type": "code",
   "execution_count": 319,
   "metadata": {
    "ExecuteTime": {
     "end_time": "2019-12-23T21:48:29.077175Z",
     "start_time": "2019-12-23T21:48:28.900177Z"
    }
   },
   "outputs": [
    {
     "data": {
      "text/plain": [
       "Text(0, 0.5, 'No. of customers')"
      ]
     },
     "execution_count": 319,
     "metadata": {},
     "output_type": "execute_result"
    },
    {
     "data": {
      "image/png": "[encoded data removed]",
      "text/plain": [
       "<Figure size 960x400 with 1 Axes>"
      ]
     },
     "metadata": {},
     "output_type": "display_data"
    }
   ],
   "source": [
    "plt.figure(figsize=(12,5))\n",
    "ax = sns.countplot(x='housing', data=df, hue='y')\n",
    "ax.set_xlabel('Housing', fontsize=15)\n",
    "ax.set_ylabel('No. of customers', fontsize=15)"
   ]
  },
  {
   "cell_type": "code",
   "execution_count": 320,
   "metadata": {
    "ExecuteTime": {
     "end_time": "2019-12-23T21:48:29.497746Z",
     "start_time": "2019-12-23T21:48:29.348544Z"
    }
   },
   "outputs": [
    {
     "data": {
      "text/plain": [
       "Text(0, 0.5, 'No. of customers')"
      ]
     },
     "execution_count": 320,
     "metadata": {},
     "output_type": "execute_result"
    },
    {
     "data": {
      "image/png": "[encoded data removed]",
      "text/plain": [
       "<Figure size 960x400 with 1 Axes>"
      ]
     },
     "metadata": {},
     "output_type": "display_data"
    }
   ],
   "source": [
    "plt.figure(figsize=(12,5))\n",
    "ax = sns.countplot(x='default', data=df)\n",
    "ax.set_xlabel('Default', fontsize=15)\n",
    "ax.set_ylabel('No. of customers', fontsize=15)"
   ]
  },
  {
   "cell_type": "code",
   "execution_count": 321,
   "metadata": {
    "ExecuteTime": {
     "end_time": "2019-12-23T21:48:30.075595Z",
     "start_time": "2019-12-23T21:48:29.912290Z"
    }
   },
   "outputs": [
    {
     "data": {
      "text/plain": [
       "Text(0, 0.5, 'No. of customers')"
      ]
     },
     "execution_count": 321,
     "metadata": {},
     "output_type": "execute_result"
    },
    {
     "data": {
      "image/png": "[encoded data removed]",
      "text/plain": [
       "<Figure size 960x400 with 1 Axes>"
      ]
     },
     "metadata": {},
     "output_type": "display_data"
    }
   ],
   "source": [
    "plt.figure(figsize=(12,5))\n",
    "ax = sns.countplot(x='loan', data=df, hue='y')\n",
    "ax.set_xlabel('Loan', fontsize=15)\n",
    "ax.set_ylabel('No. of customers', fontsize=15)"
   ]
  },
  {
   "cell_type": "code",
   "execution_count": 322,
   "metadata": {
    "ExecuteTime": {
     "end_time": "2019-12-23T21:48:30.466367Z",
     "start_time": "2019-12-23T21:48:30.463757Z"
    }
   },
   "outputs": [],
   "source": [
    "# Most customers who purchased the Term deposit did not have any loans."
   ]
  },
  {
   "cell_type": "code",
   "execution_count": null,
   "metadata": {},
   "outputs": [],
   "source": []
  },
  {
   "cell_type": "code",
   "execution_count": 323,
   "metadata": {
    "ExecuteTime": {
     "end_time": "2019-12-23T21:48:31.450730Z",
     "start_time": "2019-12-23T21:48:31.447720Z"
    }
   },
   "outputs": [],
   "source": [
    "## 4. MODELLING APPROACHES"
   ]
  },
  {
   "cell_type": "code",
   "execution_count": 146,
   "metadata": {
    "ExecuteTime": {
     "end_time": "2019-12-23T20:41:33.191223Z",
     "start_time": "2019-12-23T20:41:33.188872Z"
    }
   },
   "outputs": [],
   "source": [
    "# We will be using a SVM (Structured Vector Machine) Model for our data prediction.\n",
    "# First we'll do some more processing of our data so it is ready to be fed in the model."
   ]
  },
  {
   "cell_type": "code",
   "execution_count": 128,
   "metadata": {
    "ExecuteTime": {
     "end_time": "2019-12-23T20:32:51.523858Z",
     "start_time": "2019-12-23T20:32:51.479643Z"
    }
   },
   "outputs": [],
   "source": [
    "df_with_dummies = pd.get_dummies(file_data, drop_first=True).astype(np.float32)"
   ]
  },
  {
   "cell_type": "code",
   "execution_count": 129,
   "metadata": {
    "ExecuteTime": {
     "end_time": "2019-12-23T20:32:51.976738Z",
     "start_time": "2019-12-23T20:32:51.959185Z"
    }
   },
   "outputs": [
    {
     "name": "stdout",
     "output_type": "stream",
     "text": [
      "<class 'pandas.core.frame.DataFrame'>\n",
      "Int64Index: 32978 entries, 0 to 41187\n",
      "Data columns (total 54 columns):\n",
      "age                              32978 non-null float32\n",
      "duration                         32978 non-null float32\n",
      "campaign                         32978 non-null float32\n",
      "pdays                            32978 non-null float32\n",
      "previous                         32978 non-null float32\n",
      "emp.var.rate                     32978 non-null float32\n",
      "cons.price.idx                   32978 non-null float32\n",
      "cons.conf.idx                    32978 non-null float32\n",
      "euribor3m                        32978 non-null float32\n",
      "nr.employed                      32978 non-null float32\n",
      "job_blue-collar                  32978 non-null float32\n",
      "job_entrepreneur                 32978 non-null float32\n",
      "job_housemaid                    32978 non-null float32\n",
      "job_management                   32978 non-null float32\n",
      "job_retired                      32978 non-null float32\n",
      "job_self-employed                32978 non-null float32\n",
      "job_services                     32978 non-null float32\n",
      "job_student                      32978 non-null float32\n",
      "job_technician                   32978 non-null float32\n",
      "job_unemployed                   32978 non-null float32\n",
      "job_unknown                      32978 non-null float32\n",
      "marital_married                  32978 non-null float32\n",
      "marital_single                   32978 non-null float32\n",
      "marital_unknown                  32978 non-null float32\n",
      "education_basic.6y               32978 non-null float32\n",
      "education_basic.9y               32978 non-null float32\n",
      "education_high.school            32978 non-null float32\n",
      "education_illiterate             32978 non-null float32\n",
      "education_professional.course    32978 non-null float32\n",
      "education_university.degree      32978 non-null float32\n",
      "education_unknown                32978 non-null float32\n",
      "default_unknown                  32978 non-null float32\n",
      "default_yes                      32978 non-null float32\n",
      "housing_unknown                  32978 non-null float32\n",
      "housing_yes                      32978 non-null float32\n",
      "loan_unknown                     32978 non-null float32\n",
      "loan_yes                         32978 non-null float32\n",
      "contact_telephone                32978 non-null float32\n",
      "month_aug                        32978 non-null float32\n",
      "month_dec                        32978 non-null float32\n",
      "month_jul                        32978 non-null float32\n",
      "month_jun                        32978 non-null float32\n",
      "month_mar                        32978 non-null float32\n",
      "month_may                        32978 non-null float32\n",
      "month_nov                        32978 non-null float32\n",
      "month_oct                        32978 non-null float32\n",
      "month_sep                        32978 non-null float32\n",
      "day_of_week_mon                  32978 non-null float32\n",
      "day_of_week_thu                  32978 non-null float32\n",
      "day_of_week_tue                  32978 non-null float32\n",
      "day_of_week_wed                  32978 non-null float32\n",
      "poutcome_nonexistent             32978 non-null float32\n",
      "poutcome_success                 32978 non-null float32\n",
      "y_yes                            32978 non-null float32\n",
      "dtypes: float32(54)\n",
      "memory usage: 8.3 MB\n"
     ]
    }
   ],
   "source": [
    "df_with_dummies.info()"
   ]
  },
  {
   "cell_type": "code",
   "execution_count": 130,
   "metadata": {
    "ExecuteTime": {
     "end_time": "2019-12-23T20:32:52.546537Z",
     "start_time": "2019-12-23T20:32:52.541270Z"
    }
   },
   "outputs": [],
   "source": [
    "df_drop = df_with_dummies.drop('default_yes', axis=1, inplace=True)"
   ]
  },
  {
   "cell_type": "code",
   "execution_count": 131,
   "metadata": {
    "ExecuteTime": {
     "end_time": "2019-12-23T20:32:53.057354Z",
     "start_time": "2019-12-23T20:32:53.051414Z"
    }
   },
   "outputs": [],
   "source": [
    "X = df_with_dummies.iloc[:, :-1].values\n",
    "y = df_with_dummies.iloc[:, -1].values"
   ]
  },
  {
   "cell_type": "code",
   "execution_count": 132,
   "metadata": {
    "ExecuteTime": {
     "end_time": "2019-12-23T20:32:53.498114Z",
     "start_time": "2019-12-23T20:32:53.467232Z"
    }
   },
   "outputs": [],
   "source": [
    "scaler = StandardScaler()\n",
    "scaler.fit(X)\n",
    "X = scaler.transform(X)"
   ]
  },
  {
   "cell_type": "code",
   "execution_count": null,
   "metadata": {},
   "outputs": [],
   "source": [
    "# We'll split our dataset into training and testing datasets.\n",
    "# The testing dataset will be used to check the accuracy of our model.\n",
    "# We'll keep 90% data for training and 10% for testing."
   ]
  },
  {
   "cell_type": "code",
   "execution_count": 153,
   "metadata": {
    "ExecuteTime": {
     "end_time": "2019-12-23T20:43:12.100488Z",
     "start_time": "2019-12-23T20:43:12.080361Z"
    }
   },
   "outputs": [],
   "source": [
    "X_train, X_test, y_train, y_test = train_test_split(X, y, test_size = 0.1, random_state=2, stratify=y)"
   ]
  },
  {
   "cell_type": "code",
   "execution_count": 154,
   "metadata": {
    "ExecuteTime": {
     "end_time": "2019-12-23T20:43:12.413176Z",
     "start_time": "2019-12-23T20:43:12.411258Z"
    }
   },
   "outputs": [],
   "source": [
    "model = SVC(gamma='auto')"
   ]
  },
  {
   "cell_type": "code",
   "execution_count": null,
   "metadata": {},
   "outputs": [],
   "source": [
    "# Now we'll train our SVM using the training dataset."
   ]
  },
  {
   "cell_type": "code",
   "execution_count": 155,
   "metadata": {
    "ExecuteTime": {
     "end_time": "2019-12-23T20:43:33.992087Z",
     "start_time": "2019-12-23T20:43:12.755569Z"
    },
    "scrolled": true
   },
   "outputs": [
    {
     "data": {
      "text/plain": [
       "SVC(C=1.0, cache_size=200, class_weight=None, coef0=0.0,\n",
       "    decision_function_shape='ovr', degree=3, gamma='auto', kernel='rbf',\n",
       "    max_iter=-1, probability=False, random_state=None, shrinking=True,\n",
       "    tol=0.001, verbose=False)"
      ]
     },
     "execution_count": 155,
     "metadata": {},
     "output_type": "execute_result"
    }
   ],
   "source": [
    "model.fit(X_train, y_train)"
   ]
  },
  {
   "cell_type": "code",
   "execution_count": 156,
   "metadata": {
    "ExecuteTime": {
     "end_time": "2019-12-23T20:43:35.493275Z",
     "start_time": "2019-12-23T20:43:33.993705Z"
    }
   },
   "outputs": [],
   "source": [
    "y_pred = model.predict(X_test)"
   ]
  },
  {
   "cell_type": "code",
   "execution_count": 157,
   "metadata": {
    "ExecuteTime": {
     "end_time": "2019-12-23T20:43:35.505530Z",
     "start_time": "2019-12-23T20:43:35.494623Z"
    }
   },
   "outputs": [
    {
     "name": "stdout",
     "output_type": "stream",
     "text": [
      "              precision    recall  f1-score   support\n",
      "\n",
      "         0.0       0.98      0.93      0.95      3092\n",
      "         1.0       0.39      0.71      0.50       206\n",
      "\n",
      "    accuracy                           0.91      3298\n",
      "   macro avg       0.68      0.82      0.73      3298\n",
      "weighted avg       0.94      0.91      0.92      3298\n",
      "\n",
      "0.9126743480897513 \n",
      "\n"
     ]
    }
   ],
   "source": [
    "print(classification_report(y_pred, y_test))\n",
    "print(accuracy_score(y_pred, y_test), '\\n')"
   ]
  },
  {
   "cell_type": "code",
   "execution_count": 152,
   "metadata": {
    "ExecuteTime": {
     "end_time": "2019-12-23T20:43:03.430412Z",
     "start_time": "2019-12-23T20:43:03.428073Z"
    }
   },
   "outputs": [],
   "source": [
    "# Our model has got a pretty decent accuracy of 91%."
   ]
  },
  {
   "cell_type": "code",
   "execution_count": null,
   "metadata": {},
   "outputs": [],
   "source": [
    "# Now we'll run the model on the given problem statement data on which we have to make predictions."
   ]
  },
  {
   "cell_type": "code",
   "execution_count": 138,
   "metadata": {
    "ExecuteTime": {
     "end_time": "2019-12-23T20:33:17.201686Z",
     "start_time": "2019-12-23T20:33:17.183639Z"
    }
   },
   "outputs": [],
   "source": [
    "df2 = pd.read_csv('test.csv', sep=',')"
   ]
  },
  {
   "cell_type": "code",
   "execution_count": 139,
   "metadata": {
    "ExecuteTime": {
     "end_time": "2019-12-23T20:33:17.209120Z",
     "start_time": "2019-12-23T20:33:17.203214Z"
    }
   },
   "outputs": [],
   "source": [
    "df2.drop('duration', axis=1, inplace=True)"
   ]
  },
  {
   "cell_type": "code",
   "execution_count": 140,
   "metadata": {
    "ExecuteTime": {
     "end_time": "2019-12-23T20:33:17.235041Z",
     "start_time": "2019-12-23T20:33:17.211054Z"
    }
   },
   "outputs": [],
   "source": [
    "df_with_dummies2 = pd.get_dummies(df2, drop_first=True).astype(np.float32)"
   ]
  },
  {
   "cell_type": "code",
   "execution_count": 141,
   "metadata": {
    "ExecuteTime": {
     "end_time": "2019-12-23T20:33:17.238721Z",
     "start_time": "2019-12-23T20:33:17.236186Z"
    }
   },
   "outputs": [],
   "source": [
    "X2 = df_with_dummies2.iloc[:, :].values"
   ]
  },
  {
   "cell_type": "code",
   "execution_count": 142,
   "metadata": {
    "ExecuteTime": {
     "end_time": "2019-12-23T20:33:17.250380Z",
     "start_time": "2019-12-23T20:33:17.240164Z"
    }
   },
   "outputs": [],
   "source": [
    "scaler2 = StandardScaler()\n",
    "scaler2.fit(X2)\n",
    "X2 = scaler2.transform(X2)"
   ]
  },
  {
   "cell_type": "code",
   "execution_count": null,
   "metadata": {},
   "outputs": [],
   "source": []
  },
  {
   "cell_type": "code",
   "execution_count": 159,
   "metadata": {
    "ExecuteTime": {
     "end_time": "2019-12-23T20:56:23.987698Z",
     "start_time": "2019-12-23T20:56:23.985358Z"
    }
   },
   "outputs": [],
   "source": [
    "## 6. RESULTS AND ANALYSIS"
   ]
  },
  {
   "cell_type": "code",
   "execution_count": 143,
   "metadata": {
    "ExecuteTime": {
     "end_time": "2019-12-23T20:33:21.065031Z",
     "start_time": "2019-12-23T20:33:17.251729Z"
    }
   },
   "outputs": [],
   "source": [
    "y_pred2 = model.predict(X2)"
   ]
  },
  {
   "cell_type": "code",
   "execution_count": 144,
   "metadata": {
    "ExecuteTime": {
     "end_time": "2019-12-23T20:33:21.085162Z",
     "start_time": "2019-12-23T20:33:21.066203Z"
    }
   },
   "outputs": [
    {
     "name": "stdout",
     "output_type": "stream",
     "text": [
      "count= 8210\n",
      "count_yes= 423\n",
      "count_no= 7787\n"
     ]
    }
   ],
   "source": [
    "count=0\n",
    "count_yes=0\n",
    "count_no=0\n",
    "for i in range(len(X2)):\n",
    "    \n",
    "    if y_pred2[i]==0:\n",
    "        count_no+=1\n",
    "    else:\n",
    "        count_yes+=1\n",
    "        \n",
    "    count+=1\n",
    "    \n",
    "print(\"count=\",count)\n",
    "print(\"count_yes=\",count_yes)\n",
    "print(\"count_no=\",count_no)"
   ]
  },
  {
   "cell_type": "code",
   "execution_count": 173,
   "metadata": {
    "ExecuteTime": {
     "end_time": "2019-12-23T21:31:20.112595Z",
     "start_time": "2019-12-23T21:31:20.109847Z"
    }
   },
   "outputs": [],
   "source": [
    "# Uncomment the below block of code if you want to view the predicted result in the notebook itself\n",
    "\n",
    "# for i in range(len(X2)):\n",
    "#     if y_pred2[i]==0:\n",
    "#         print(str(df2.id[i]) + \",no\")\n",
    "#     else:\n",
    "#         print(str(df2.id[i]) + \",yes\")\n"
   ]
  },
  {
   "cell_type": "code",
   "execution_count": null,
   "metadata": {},
   "outputs": [],
   "source": [
    "# The most ideal customers are the one with the following:\n",
    "# 1. Have a University Degree\n",
    "# 2. Work as Admin\n",
    "# 3. Are married\n",
    "# 4. Do not have a loan\n",
    "\n",
    "# To have the highest chance for the customer to take the deposit, the bank should contact the customer over a cellular connection instead of a telephone.\n",
    "\n",
    "# Our SVM model has a prediction accuracy of around 91%.\n",
    "# That implies we have successfully improved the accuracy of the correct customers being targeted from around 11% to around 91%.\n",
    "# That is more than 8 times improvement in accuracy.\n",
    "# Hence given the correct customer data, our model can easily predict whether a customer will buy the Term Deposit or Not.\n"
   ]
  }
 ],
 "metadata": {
  "kernelspec": {
   "display_name": "Python 3",
   "language": "python",
   "name": "python3"
  },
  "language_info": {
   "codemirror_mode": {
    "name": "ipython",
    "version": 3
   },
   "file_extension": ".py",
   "mimetype": "text/x-python",
   "name": "python",
   "nbconvert_exporter": "python",
   "pygments_lexer": "ipython3",
   "version": "3.6.9"
  }
 },
 "nbformat": 4,
 "nbformat_minor": 2
}
